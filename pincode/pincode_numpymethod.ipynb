{
 "cells": [
  {
   "cell_type": "code",
   "execution_count": 32,
   "id": "717a94e7",
   "metadata": {},
   "outputs": [
    {
     "name": "stdout",
     "output_type": "stream",
     "text": [
      "74658\n"
     ]
    }
   ],
   "source": [
    "import numpy as np\n",
    "A = np.array([[0, 0, 1, 0, 1] ,[-1, 2, 0, 0, 0] ,[0, -1, 0, 1, 0], [0, 1, 1, 0, 0] ,[1, 1, 1, 1, 1]])\n",
    "B = np.array([14, 1, 1, 10, 30])\n",
    "x = np.linalg.solve(A, B)\n",
    "x1 = str(int(x[0]))\n",
    "x2 = str(int(x[1]))\n",
    "x3 = str(int(x[2])+1)\n",
    "x4 = str(int(x[3]))\n",
    "x5 = str(int(x[4]))\n",
    "print(x1+x2+x3+x4+x5)"
   ]
  },
  {
   "cell_type": "code",
   "execution_count": null,
   "id": "c0c032dd",
   "metadata": {},
   "outputs": [],
   "source": []
  }
 ],
 "metadata": {
  "kernelspec": {
   "display_name": "Python 3 (ipykernel)",
   "language": "python",
   "name": "python3"
  },
  "language_info": {
   "codemirror_mode": {
    "name": "ipython",
    "version": 3
   },
   "file_extension": ".py",
   "mimetype": "text/x-python",
   "name": "python",
   "nbconvert_exporter": "python",
   "pygments_lexer": "ipython3",
   "version": "3.9.13"
  }
 },
 "nbformat": 4,
 "nbformat_minor": 5
}
